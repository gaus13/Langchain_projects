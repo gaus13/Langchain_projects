{
 "cells": [
  {
   "cell_type": "code",
   "execution_count": null,
   "id": "6f04fc9b",
   "metadata": {},
   "outputs": [],
   "source": [
    "import random\n",
    "class NakliLLM:\n",
    "    def __init__(self):\n",
    "        print('LLM created')\n",
    "\n",
    "    def predict(self, prompt):    \n",
    "        response_list = [\n",
    "            'Delhi is the capital of india',\n",
    "            'I dont want to answer',\n",
    "            'AI is the future of tech'\n",
    "\n",
    "        ]\n",
    "        return{'response': random.choice(response_list)}"
   ]
  },
  {
   "cell_type": "code",
   "execution_count": 2,
   "id": "45cb856a",
   "metadata": {},
   "outputs": [
    {
     "name": "stdout",
     "output_type": "stream",
     "text": [
      "LLM created\n"
     ]
    }
   ],
   "source": [
    "llm = NakliLLM()\n"
   ]
  },
  {
   "cell_type": "code",
   "execution_count": 9,
   "id": "2bdc9fc3",
   "metadata": {},
   "outputs": [
    {
     "data": {
      "text/plain": [
       "{'response': 'Delhi is the capital of india'}"
      ]
     },
     "execution_count": 9,
     "metadata": {},
     "output_type": "execute_result"
    }
   ],
   "source": [
    "llm.predict('what is AI')"
   ]
  }
 ],
 "metadata": {
  "kernelspec": {
   "display_name": ".venv",
   "language": "python",
   "name": "python3"
  },
  "language_info": {
   "codemirror_mode": {
    "name": "ipython",
    "version": 3
   },
   "file_extension": ".py",
   "mimetype": "text/x-python",
   "name": "python",
   "nbconvert_exporter": "python",
   "pygments_lexer": "ipython3",
   "version": "3.12.6"
  }
 },
 "nbformat": 4,
 "nbformat_minor": 5
}
